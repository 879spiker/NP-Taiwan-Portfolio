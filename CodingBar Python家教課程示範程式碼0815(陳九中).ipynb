{
 "cells": [
  {
   "cell_type": "markdown",
   "id": "entertaining-exemption",
   "metadata": {},
   "source": [
    "#QUESTION\n",
    "\n",
    "請你設計一個程式，讓使用者分別輸入一元二次方程式的三個係數 a, b, c，\n",
    "\n",
    "並依據判別式判斷方程式的性質：\n",
    "\n",
    "\n",
    "\n",
    "判別式 = b**2 - 4*a*c\n",
    "\n",
    "\n",
    "\n",
    "如果 a > 0，開口方向向上，\n",
    "\n",
    "如果 a < 0，開口方向向下。\n",
    "\n",
    "\n",
    "\n",
    "如果 判別式 > 0，有相異解，\n",
    "\n",
    "如果 判別式 = 0，恰有一解，\n",
    "\n",
    "如果 判別式 < 0，無解。\n",
    "\n",
    "\n",
    "\n",
    "#INPUT\n",
    "\n",
    "輸入共有三列，皆含有一個整數，用來表示方程式的三個係數 a,b,c。\n",
    "\n",
    "\n",
    "\n",
    "#OUTPUT\n",
    "\n",
    "輸出共有兩列，皆含有一個文字，\n",
    "\n",
    "第一列用來表示開口方向，文字格式為 \"開口向上\" \"開口向下\"，\n",
    "\n",
    "第二列用來表示解的性質，文字格式為 \"有相異解\" \"恰有一解\" \"無解\"。"
   ]
  },
  {
   "cell_type": "code",
   "execution_count": 1,
   "id": "formed-survey",
   "metadata": {},
   "outputs": [
    {
     "name": "stdout",
     "output_type": "stream",
     "text": [
      "1\n",
      "2\n",
      "3\n",
      "開口向上\n",
      "無解\n"
     ]
    }
   ],
   "source": [
    "a = int(input())\n",
    "b = int(input())\n",
    "c = int(input())\n",
    "#根據題目的需求，要先試著計算出判別式的結果\n",
    "#判別式的公式為 b**2 - 4*a*c，記得將結果儲存在 delta 的變數上唷！\n",
    "\n",
    "delta = b**2 - 4*a*c\n",
    "\n",
    "#試著透過程式判斷，如果 a 大於 0，顯示 \"開口向上\"\n",
    "if a>0:\n",
    "    print(\"開口向上\")\n",
    "else:  #不然的話，顯示 \"開口向下\"\n",
    "    print(\"開口向下\")\n",
    "\n",
    "if delta > 0:\n",
    "    print(\"有相異解\")\n",
    "elif delta == 0:\n",
    "    print(\"恰有一解\")\n",
    "else:\n",
    "    print(\"無解\")"
   ]
  },
  {
   "cell_type": "markdown",
   "id": "still-tobago",
   "metadata": {},
   "source": [
    "#QUESTION\n",
    "\n",
    "從數學公式推導當中可知，1**2 + 2**2 + 3**2 + ... + k**2 = ((k)*(k + 1)*(2*k + 1))/6\n",
    "\n",
    "試求 <=2400 的所有非負整數 k 使得 1**2 + 2**2 + 3**2 + ... + k**2 可被 400 整除\n",
    "\n",
    "\n",
    "\n",
    "#OUTPUT\n",
    "\n",
    "輸出共有多行，皆恰包含一個正整數。"
   ]
  },
  {
   "cell_type": "code",
   "execution_count": 2,
   "id": "basic-tennessee",
   "metadata": {},
   "outputs": [
    {
     "name": "stdout",
     "output_type": "stream",
     "text": [
      "0\n",
      "224\n",
      "287\n",
      "512\n",
      "575\n",
      "799\n",
      "800\n",
      "1024\n",
      "1087\n",
      "1312\n",
      "1375\n",
      "1599\n",
      "1600\n",
      "1824\n",
      "1887\n",
      "2112\n",
      "2175\n",
      "2399\n",
      "2400\n"
     ]
    }
   ],
   "source": [
    "for i in range(2401):\n",
    "    if ((i)*(i + 1)*(2*i + 1))/6 % 400 == 0:\n",
    "        print(i)"
   ]
  },
  {
   "attachments": {
    "image.png": {
     "image/png": "[encoded data removed]"
    }
   },
   "cell_type": "markdown",
   "id": "latest-organic",
   "metadata": {},
   "source": [
    "#QUESTION\n",
    "\n",
    "小明是一位熱愛解謎的一位學生。\n",
    "\n",
    "某天他在圖書館的書中找到一題謎題如下：請問 N * N 的方格中共有幾個不相同的正方形呢？\n",
    "\n",
    "這題讓小明想破了頭，請問你能使用程式協助他回答這題題目嗎？\n",
    "\n",
    "![image.png](attachment:image.png)\n",
    "\n",
    "\n",
    "\n",
    "\n",
    "\n",
    "\n",
    "\n",
    "#INPUT\n",
    "\n",
    "輸入共有多筆測資，\n",
    "\n",
    "每筆測資含有一正整數 N（1 <= N <= 100）代表每個邊有 N 個方格。\n",
    "\n",
    "當 N = 0 時輸入結束。\n",
    "\n",
    "\n",
    "\n",
    "#OUTPUT\n",
    "\n",
    "對應每筆測資輸出題目要求的結果。"
   ]
  },
  {
   "cell_type": "code",
   "execution_count": 5,
   "id": "spanish-italic",
   "metadata": {
    "scrolled": true
   },
   "outputs": [
    {
     "name": "stdout",
     "output_type": "stream",
     "text": [
      "1\n",
      "1\n",
      "2\n",
      "5\n",
      "3\n",
      "14\n",
      "4\n",
      "30\n",
      "5\n",
      "55\n",
      "6\n",
      "91\n",
      "7\n",
      "140\n",
      "8\n",
      "204\n",
      "0\n"
     ]
    }
   ],
   "source": [
    "while True:\n",
    "    a = int(input())\n",
    "    if a == 0:\n",
    "        break\n",
    "    else:\n",
    "        count = 0\n",
    "        for i in range(a+1):\n",
    "            count += i**2\n",
    "    print(count)"
   ]
  },
  {
   "cell_type": "markdown",
   "id": "irish-diamond",
   "metadata": {},
   "source": [
    "輾轉相除法找最大公因數\n",
    "--\n"
   ]
  },
  {
   "cell_type": "code",
   "execution_count": 8,
   "id": "behind-dollar",
   "metadata": {},
   "outputs": [
    {
     "name": "stdout",
     "output_type": "stream",
     "text": [
      "10\n",
      "45\n",
      "5\n"
     ]
    }
   ],
   "source": [
    "a = int(input())\n",
    "b = int(input())\n",
    "#要開始做輾轉相除法，就是：\n",
    "#1. 將右手邊的數字先利用 temp 暫存起來\n",
    "#2. 找出兩個數字相除的餘數，儲存到右手邊\n",
    "#3. 將原本的右手邊數字放回左手邊\n",
    "\n",
    "while True:\n",
    "    if a % b == 0:\n",
    "        break\n",
    "    else:\n",
    "        tmp = b\n",
    "        b = a % b\n",
    "        a = tmp\n",
    "print(b)"
   ]
  },
  {
   "cell_type": "markdown",
   "id": "caroline-outdoors",
   "metadata": {},
   "source": [
    "化簡分數\n",
    "--\n",
    "#QUESTION\n",
    "\n",
    "請設計讓使用者輸入兩個數字分別為分子、分母，並顯示出約分成最簡分數後的答案\n",
    "\n",
    "例如輸入：\n",
    "\n",
    "96\n",
    "\n",
    "18\n",
    "\n",
    "顯示：\n",
    "\n",
    "16 / 3\n",
    "\n",
    "\n",
    "\n",
    "#INPUT\n",
    "\n",
    "共有兩行，分別為分子、分母，作為分數\n",
    "\n",
    "分數的分子與分母皆不為零、分子不會整除分母\n",
    "\n",
    "\n",
    "\n",
    "#OUTPUT\n",
    "\n",
    "共有一行，恰包含一個字串\n",
    "\n",
    "文字型式必為 分子 / 分母\n"
   ]
  },
  {
   "cell_type": "code",
   "execution_count": 14,
   "id": "ignored-bonus",
   "metadata": {},
   "outputs": [
    {
     "name": "stdout",
     "output_type": "stream",
     "text": [
      "10\n",
      "45\n",
      "2 / 9\n"
     ]
    }
   ],
   "source": [
    "a = int(input())\n",
    "b = int(input())\n",
    "\n",
    "c = a\n",
    "d = b\n",
    "\n",
    "while True:\n",
    "    if a % b == 0:\n",
    "        break\n",
    "    else:\n",
    "        tmp = b\n",
    "        b = a % b\n",
    "        a = tmp\n",
    "print(c//b,\"/\",d//b)"
   ]
  },
  {
   "cell_type": "code",
   "execution_count": null,
   "id": "applicable-champion",
   "metadata": {},
   "outputs": [],
   "source": []
  }
 ],
 "metadata": {
  "kernelspec": {
   "display_name": "Python 3",
   "language": "python",
   "name": "python3"
  },
  "language_info": {
   "codemirror_mode": {
    "name": "ipython",
    "version": 3
   },
   "file_extension": ".py",
   "mimetype": "text/x-python",
   "name": "python",
   "nbconvert_exporter": "python",
   "pygments_lexer": "ipython3",
   "version": "3.8.8"
  }
 },
 "nbformat": 4,
 "nbformat_minor": 5
}
